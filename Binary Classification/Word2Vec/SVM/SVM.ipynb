{
 "cells": [
  {
   "cell_type": "code",
   "execution_count": 24,
   "metadata": {},
   "outputs": [],
   "source": [
    "import pandas as pd\n",
    "import numpy as np\n",
    "from sklearn.feature_extraction.text import CountVectorizer, TfidfVectorizer\n",
    "from sklearn import model_selection, naive_bayes, svm\n",
    "from sklearn.svm import SVC\n",
    "from sklearn.model_selection import GridSearchCV\n",
    "from sklearn.metrics import accuracy_score, f1_score, roc_auc_score\n",
    "from tqdm import tqdm\n",
    "from sklearn.model_selection import train_test_split\n",
    "from sklearn.preprocessing import MaxAbsScaler\n",
    "import os.path\n",
    "import pickle"
   ]
  },
  {
   "cell_type": "code",
   "execution_count": 25,
   "metadata": {},
   "outputs": [],
   "source": [
    "X_train = pd.read_pickle('../../../Preprocessing/Data/X_train.pkl')\n",
    "X_test = pd.read_pickle('../../../Preprocessing/Data/X_test.pkl')\n",
    "y_train = pd.read_pickle('../../../Preprocessing/Data/y_train.pkl')\n",
    "y_test = pd.read_pickle('../../../Preprocessing/Data/y_test.pkl')"
   ]
  },
  {
   "cell_type": "markdown",
   "metadata": {},
   "source": [
    "Before we do anything, we need to get the vectors. We can download one of the pre-trained models. We downloaded the pretrained model from http://nlp.stanford.edu/data/glove.6B.zip "
   ]
  },
  {
   "cell_type": "code",
   "execution_count": 26,
   "metadata": {},
   "outputs": [],
   "source": [
    "import numpy as np\n",
    "w2v = {}\n",
    "\n",
    "f = open(\"../Word2Vec_Data/glove.6B.50d.txt\", \"rb\")\n",
    "\n",
    "for line in f:\n",
    "    w2v[line.split()[0]] = np.array(line.split()[1:]).astype(np.float)"
   ]
  },
  {
   "cell_type": "code",
   "execution_count": 27,
   "metadata": {},
   "outputs": [
    {
     "name": "stdout",
     "output_type": "stream",
     "text": [
      "(39912, 50)\n"
     ]
    }
   ],
   "source": [
    "words_not_found = 0\n",
    "train_doc_vectors = pd.DataFrame() # creating empty final dataframe\n",
    "if os.path.isfile('../Word2Vec_Data/train_doc_vectors.pkl'):\n",
    "    train_doc_vectors = pd.read_pickle('../Word2Vec_Data/train_doc_vectors.pkl')\n",
    "else:\n",
    "    for doc in tqdm(X_train.values): # looping through each document and cleaning it\n",
    "        temp = pd.DataFrame()  # creating a temporary dataframe(store value for 1st doc & for 2nd doc remove the details of 1st & proced through 2nd and so on..)\n",
    "        word_vec = np.zeros(50)\n",
    "        temp = temp.append(pd.Series(word_vec), ignore_index = True) # if word is present then append it to temporary dataframe\n",
    "\n",
    "        for word in doc.split(\" \"): # looping through each word of a single document and spliting through space\n",
    "            word = word.encode(\"utf-8\")\n",
    "            try:\n",
    "                word_vec = w2v[word] # if word is present in embeddings(goole provides weights associate with words(300)) then proceed\n",
    "                temp = temp.append(pd.Series(word_vec), ignore_index = True) # if word is present then append it to temporary dataframe\n",
    "            except:\n",
    "                word_vec = np.zeros(50)\n",
    "                words_not_found += 1\n",
    "                temp = temp.append(pd.Series(word_vec), ignore_index = True) # if word is present then append it to temporary dataframe\n",
    "                pass\n",
    "        doc_vector = temp.mean() # take the average of each column(w0, w1, w2,........w300)\n",
    "        train_doc_vectors = train_doc_vectors.append(doc_vector, ignore_index = True) # append each document value to the final dataframe\n",
    "    train_doc_vectors.to_pickle(\"../Word2Vec_Data/train_doc_vectors.pkl\")\n",
    "\n",
    "print(train_doc_vectors.shape)"
   ]
  },
  {
   "cell_type": "code",
   "execution_count": 28,
   "metadata": {},
   "outputs": [
    {
     "name": "stdout",
     "output_type": "stream",
     "text": [
      "(19659, 50)\n"
     ]
    }
   ],
   "source": [
    "words_not_found_test = 0\n",
    "test_doc_vectors = pd.DataFrame() # creating empty final dataframe\n",
    "if os.path.isfile('../Word2Vec_Data/test_doc_vectors.pkl'):\n",
    "    test_doc_vectors = pd.read_pickle('../Word2Vec_Data/test_doc_vectors.pkl')\n",
    "else:\n",
    "    for doc in tqdm(X_test.values): # looping through each document and cleaning it\n",
    "        temp = pd.DataFrame()  # creating a temporary dataframe(store value for 1st doc & for 2nd doc remove the details of 1st & proced through 2nd and so on..)\n",
    "        word_vec = np.zeros(50)\n",
    "        temp = temp.append(pd.Series(word_vec), ignore_index = True) # if word is present then append it to temporary dataframe\n",
    "\n",
    "        for word in doc.split(\" \"): # looping through each word of a single document and spliting through space\n",
    "            word = word.encode(\"utf-8\")\n",
    "            try:\n",
    "                word_vec = w2v[word] # if word is present in embeddings(goole provides weights associate with words(300)) then proceed\n",
    "                temp = temp.append(pd.Series(word_vec), ignore_index = True) # if word is present then append it to temporary dataframe\n",
    "            except:\n",
    "                word_vec = np.zeros(50)\n",
    "                words_not_found_test += 1\n",
    "                temp = temp.append(pd.Series(word_vec), ignore_index = True) # if word is present then append it to temporary dataframe\n",
    "                pass\n",
    "        doc_vector = temp.mean() # take the average of each column(w0, w1, w2,........w300)\n",
    "        test_doc_vectors = test_doc_vectors.append(doc_vector, ignore_index = True) # append each document value to the final dataframe\n",
    "    test_doc_vectors.to_pickle(\"../Word2Vec_Data/test_doc_vectors.pkl\")\n",
    "\n",
    "print(test_doc_vectors.shape)"
   ]
  },
  {
   "cell_type": "code",
   "execution_count": 29,
   "metadata": {},
   "outputs": [],
   "source": [
    "train_doc_vectors.fillna(0)\n",
    "test_doc_vectors.fillna(0)\n",
    "scaler = MaxAbsScaler()\n",
    "# using averaged word embeddings \n",
    "train_term_doc = scaler.fit_transform(train_doc_vectors)\n",
    "test_term_doc = scaler.fit_transform(test_doc_vectors)"
   ]
  },
  {
   "cell_type": "code",
   "execution_count": 30,
   "metadata": {},
   "outputs": [],
   "source": [
    "if os.path.isfile('Models/svm_poly_w2v.sav'):\n",
    "    clf = pickle.load(open('Models/svm_poly_w2v.sav', 'rb'))\n",
    "else:\n",
    "    clf = svm.SVC(kernel = 'poly', gamma='scale', degree=1, verbose=1)\n",
    "    clf.fit(train_term_doc, y_train['toxic'])\n",
    "    pickle.dump(clf, open('Models/svm_poly_w2v.sav', 'wb'))"
   ]
  },
  {
   "cell_type": "code",
   "execution_count": 11,
   "metadata": {},
   "outputs": [],
   "source": [
    "svm_pred = clf.predict(test_term_doc)"
   ]
  },
  {
   "cell_type": "code",
   "execution_count": 12,
   "metadata": {},
   "outputs": [
    {
     "name": "stdout",
     "output_type": "stream",
     "text": [
      "Accuracy SVM Linear Kernel: 0.8594536853349611\n",
      "F1 Score SVM Linear Kernel: 0.6825962090752441\n",
      "ROC-AUC Score SVM Linear Kernel: 0.7721996341677192\n"
     ]
    }
   ],
   "source": [
    "print('Accuracy SVM Linear Kernel:', accuracy_score(y_test['toxic'], svm_pred))\n",
    "print('F1 Score SVM Linear Kernel:', f1_score(y_test['toxic'], svm_pred))\n",
    "print('ROC-AUC Score SVM Linear Kernel:', roc_auc_score(y_test['toxic'], svm_pred))"
   ]
  },
  {
   "cell_type": "code",
   "execution_count": 13,
   "metadata": {},
   "outputs": [
    {
     "name": "stdout",
     "output_type": "stream",
     "text": [
      "[LibSVM]"
     ]
    }
   ],
   "source": [
    "if os.path.isfile('Models/svm_rbf_w2v.sav'):\n",
    "    clf_rbf = pickle.load(open('Models/svm_rbf_w2v.sav', 'rb'))\n",
    "else:\n",
    "    clf_rbf = svm.SVC(kernel = 'rbf', gamma='scale', verbose=1)\n",
    "    clf_rbf.fit(train_term_doc, y_train['toxic'])\n",
    "    pickle.dump(clf, open('Models/svm_rbf_w2v.sav', 'wb'))"
   ]
  },
  {
   "cell_type": "code",
   "execution_count": 14,
   "metadata": {},
   "outputs": [],
   "source": [
    "svm_rbf_pred = clf_rbf.predict(test_term_doc)"
   ]
  },
  {
   "cell_type": "code",
   "execution_count": 15,
   "metadata": {},
   "outputs": [
    {
     "name": "stdout",
     "output_type": "stream",
     "text": [
      "Accuracy SVM RBF Kernel: 0.8762907574139072\n",
      "F1 Score SVM RBG Kernel: 0.7174064606088775\n",
      "ROC-AUC Score SVM RBF Kernel: 0.7911421241208475\n"
     ]
    }
   ],
   "source": [
    "print('Accuracy SVM RBF Kernel:', accuracy_score(y_test['toxic'], svm_rbf_pred))\n",
    "print('F1 Score SVM RBG Kernel:', f1_score(y_test['toxic'], svm_rbf_pred))\n",
    "print('ROC-AUC Score SVM RBF Kernel:', roc_auc_score(y_test['toxic'], svm_rbf_pred))"
   ]
  },
  {
   "cell_type": "markdown",
   "metadata": {},
   "source": [
    "Cross Validation over RBF Kernel"
   ]
  },
  {
   "cell_type": "code",
   "execution_count": 18,
   "metadata": {},
   "outputs": [],
   "source": [
    "n_folds = 5\n",
    "c_vals = np.power(float(10), range(-3, 3 + 1))\n",
    "param_grid = {'C': c_vals}\n",
    "grid_search = GridSearchCV(svm.SVC(kernel='rbf', gamma='scale'), param_grid, cv=n_folds, iid=False, n_jobs = -1, verbose=10)"
   ]
  },
  {
   "cell_type": "code",
   "execution_count": 19,
   "metadata": {},
   "outputs": [
    {
     "name": "stdout",
     "output_type": "stream",
     "text": [
      "Fitting 5 folds for each of 7 candidates, totalling 35 fits\n"
     ]
    },
    {
     "name": "stderr",
     "output_type": "stream",
     "text": [
      "[Parallel(n_jobs=-1)]: Using backend LokyBackend with 12 concurrent workers.\n",
      "[Parallel(n_jobs=-1)]: Done   1 tasks      | elapsed:  2.0min\n",
      "[Parallel(n_jobs=-1)]: Done   8 tasks      | elapsed:  3.1min\n",
      "[Parallel(n_jobs=-1)]: Done  16 out of  35 | elapsed:  4.6min remaining:  5.4min\n",
      "[Parallel(n_jobs=-1)]: Done  20 out of  35 | elapsed:  5.0min remaining:  3.8min\n",
      "[Parallel(n_jobs=-1)]: Done  24 out of  35 | elapsed:  7.8min remaining:  3.6min\n",
      "[Parallel(n_jobs=-1)]: Done  28 out of  35 | elapsed: 20.1min remaining:  5.0min\n",
      "[Parallel(n_jobs=-1)]: Done  32 out of  35 | elapsed: 40.3min remaining:  3.8min\n",
      "[Parallel(n_jobs=-1)]: Done  35 out of  35 | elapsed: 42.0min finished\n"
     ]
    }
   ],
   "source": [
    "if os.path.isfile('Models/svm_rbf_cv_w2v.sav'):\n",
    "    grid_search = pickle.load(open('Models/svm_rbf_cv_w2v.sav', 'rb'))\n",
    "else:\n",
    "    grid_search.fit(train_term_doc, y_train['toxic'])\n",
    "    pickle.dump(grid_search, open('Models/svm_rbf_cv_w2v.sav', 'wb'))"
   ]
  },
  {
   "cell_type": "code",
   "execution_count": 22,
   "metadata": {},
   "outputs": [],
   "source": [
    "svm_rbf_grid_search_predict = grid_search.predict(test_term_doc)"
   ]
  },
  {
   "cell_type": "code",
   "execution_count": 23,
   "metadata": {},
   "outputs": [
    {
     "name": "stdout",
     "output_type": "stream",
     "text": [
      "Accuracy SVM RBF Kernel: 0.8764942265628974\n",
      "F1 Score SVM RBG Kernel: 0.7223873770866682\n",
      "ROC-AUC Score SVM RBF Kernel: 0.7960307279456216\n"
     ]
    }
   ],
   "source": [
    "print('Accuracy SVM RBF Kernel:', accuracy_score(y_test['toxic'], svm_rbf_grid_search_predict))\n",
    "print('F1 Score SVM RBG Kernel:', f1_score(y_test['toxic'], svm_rbf_grid_search_predict))\n",
    "print('ROC-AUC Score SVM RBF Kernel:', roc_auc_score(y_test['toxic'], svm_rbf_grid_search_predict))"
   ]
  },
  {
   "cell_type": "code",
   "execution_count": 21,
   "metadata": {},
   "outputs": [
    {
     "data": {
      "text/plain": [
       "SVC(C=10.0, cache_size=200, class_weight=None, coef0=0.0,\n",
       "    decision_function_shape='ovr', degree=3, gamma='scale', kernel='rbf',\n",
       "    max_iter=-1, probability=False, random_state=None, shrinking=True,\n",
       "    tol=0.001, verbose=False)"
      ]
     },
     "execution_count": 21,
     "metadata": {},
     "output_type": "execute_result"
    }
   ],
   "source": [
    "grid_search.best_estimator_"
   ]
  },
  {
   "cell_type": "code",
   "execution_count": null,
   "metadata": {},
   "outputs": [],
   "source": []
  }
 ],
 "metadata": {
  "kernelspec": {
   "display_name": "Python 3",
   "language": "python",
   "name": "python3"
  },
  "language_info": {
   "codemirror_mode": {
    "name": "ipython",
    "version": 3
   },
   "file_extension": ".py",
   "mimetype": "text/x-python",
   "name": "python",
   "nbconvert_exporter": "python",
   "pygments_lexer": "ipython3",
   "version": "3.7.3"
  }
 },
 "nbformat": 4,
 "nbformat_minor": 2
}
