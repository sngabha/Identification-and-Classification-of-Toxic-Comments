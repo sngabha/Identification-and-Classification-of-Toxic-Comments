{
 "cells": [
  {
   "cell_type": "code",
   "execution_count": 4,
   "metadata": {},
   "outputs": [],
   "source": [
    "import pandas as pd\n",
    "import numpy as np\n",
    "from sklearn.feature_extraction.text import CountVectorizer, TfidfVectorizer\n",
    "from sklearn import model_selection, naive_bayes, svm\n",
    "from sklearn.svm import SVC\n",
    "from sklearn.model_selection import GridSearchCV\n",
    "from sklearn.metrics import accuracy_score, f1_score, roc_auc_score\n",
    "from tqdm import tqdm\n",
    "from sklearn.model_selection import train_test_split\n",
    "from sklearn.preprocessing import MaxAbsScaler\n",
    "import os.path\n",
    "import pickle"
   ]
  },
  {
   "cell_type": "code",
   "execution_count": 5,
   "metadata": {},
   "outputs": [],
   "source": [
    "X_train = pd.read_pickle('../../../Preprocessing/Data/X_train.pkl')\n",
    "X_test = pd.read_pickle('../../../Preprocessing/Data/X_test.pkl')\n",
    "y_train = pd.read_pickle('../../../Preprocessing/Data/y_train.pkl')\n",
    "y_test = pd.read_pickle('../../../Preprocessing/Data/y_test.pkl')"
   ]
  },
  {
   "cell_type": "code",
   "execution_count": 6,
   "metadata": {},
   "outputs": [],
   "source": [
    "vec = TfidfVectorizer(ngram_range=(1, 2), min_df=3,\n",
    "                      max_df=0.9, strip_accents='unicode', use_idf=1, smooth_idf=1, sublinear_tf=1)\n",
    "df = pd.read_pickle('../../../Preprocessing/Data/preprocess_pickle.pkl')\n",
    "df['comment_text_final'] = [\" \".join(text) for text in df['comment_text_final'].values]\n",
    "vec = vec.fit(df['comment_text_final'])"
   ]
  },
  {
   "cell_type": "code",
   "execution_count": 7,
   "metadata": {},
   "outputs": [],
   "source": [
    "train_term_doc = vec.transform(X_train)\n",
    "test_term_doc = vec.transform(X_test)"
   ]
  },
  {
   "cell_type": "code",
   "execution_count": 8,
   "metadata": {},
   "outputs": [],
   "source": [
    "scaler = MaxAbsScaler()\n",
    "train_term_doc = scaler.fit_transform(train_term_doc)\n",
    "test_term_doc = scaler.fit_transform(test_term_doc)"
   ]
  },
  {
   "cell_type": "code",
   "execution_count": 6,
   "metadata": {},
   "outputs": [],
   "source": [
    "if os.path.isfile('Models/svm_poly.sav'):\n",
    "    clf = pickle.load(open('Models/svm_poly.sav', 'rb'))\n",
    "else:\n",
    "    clf = svm.SVC(kernel = 'poly', gamma='scale', degree=1, verbose=1)\n",
    "    clf.fit(train_term_doc, y_train['toxic'])\n",
    "    pickle.dump(clf, open('Models/svm_poly.sav', 'wb'))"
   ]
  },
  {
   "cell_type": "code",
   "execution_count": 7,
   "metadata": {},
   "outputs": [],
   "source": [
    "svm_pred = clf.predict(test_term_doc)"
   ]
  },
  {
   "cell_type": "code",
   "execution_count": 8,
   "metadata": {},
   "outputs": [
    {
     "name": "stdout",
     "output_type": "stream",
     "text": [
      "Accuracy SVM Linear Kernel: 0.9064041914644692\n",
      "F1 Score SVM Linear Kernel: 0.7991704867932765\n",
      "ROC-AUC Score SVM Linear Kernel: 0.8492133295324785\n"
     ]
    }
   ],
   "source": [
    "print('Accuracy SVM Linear Kernel:', accuracy_score(y_test['toxic'], svm_pred))\n",
    "print('F1 Score SVM Linear Kernel:', f1_score(y_test['toxic'], svm_pred))\n",
    "print('ROC-AUC Score SVM Linear Kernel:', roc_auc_score(y_test['toxic'], svm_pred))"
   ]
  },
  {
   "cell_type": "code",
   "execution_count": 9,
   "metadata": {},
   "outputs": [
    {
     "name": "stdout",
     "output_type": "stream",
     "text": [
      "[LibSVM]"
     ]
    }
   ],
   "source": [
    "if os.path.isfile('Models/svm_rbf.sav'):\n",
    "    clf_rbf = pickle.load(open('Models/svm_rbf.sav', 'rb'))\n",
    "else:\n",
    "    clf_rbf = svm.SVC(kernel = 'rbf', gamma='scale', verbose=1)\n",
    "    clf_rbf.fit(train_term_doc, y_train['toxic'])\n",
    "    pickle.dump(clf, open('Models/svm_rbf.sav', 'wb'))"
   ]
  },
  {
   "cell_type": "code",
   "execution_count": 10,
   "metadata": {},
   "outputs": [],
   "source": [
    "svm_rbf_pred = clf_rbf.predict(test_term_doc)"
   ]
  },
  {
   "cell_type": "code",
   "execution_count": 11,
   "metadata": {},
   "outputs": [
    {
     "name": "stdout",
     "output_type": "stream",
     "text": [
      "Accuracy SVM RBF Kernel: 0.8759346864031741\n",
      "F1 Score SVM RBG Kernel: 0.6976571216065452\n",
      "ROC-AUC Score SVM RBF Kernel: 0.7728846276718616\n"
     ]
    }
   ],
   "source": [
    "print('Accuracy SVM RBF Kernel:', accuracy_score(y_test['toxic'], svm_rbf_pred))\n",
    "print('F1 Score SVM RBG Kernel:', f1_score(y_test['toxic'], svm_rbf_pred))\n",
    "print('ROC-AUC Score SVM RBF Kernel:', roc_auc_score(y_test['toxic'], svm_rbf_pred))"
   ]
  },
  {
   "cell_type": "code",
   "execution_count": 3,
   "metadata": {},
   "outputs": [],
   "source": [
    "n_folds = 5\n",
    "c_vals = np.power(float(10), range(-7, 7 + 1))\n",
    "degree_of_poly_kernel = [1, 2, 3]\n",
    "param_grid = {'C': c_vals, 'degree' : degree_of_poly_kernel}\n",
    "grid_search = GridSearchCV(svm.SVC(kernel='poly', gamma='scale'), param_grid, cv=n_folds, iid=False, n_jobs = -1, verbose=10)"
   ]
  },
  {
   "cell_type": "code",
   "execution_count": 17,
   "metadata": {},
   "outputs": [
    {
     "name": "stdout",
     "output_type": "stream",
     "text": [
      "Fitting 5 folds for each of 33 candidates, totalling 165 fits\n"
     ]
    },
    {
     "name": "stderr",
     "output_type": "stream",
     "text": [
      "[Parallel(n_jobs=-1)]: Using backend LokyBackend with 12 concurrent workers.\n",
      "[Parallel(n_jobs=-1)]: Done   1 tasks      | elapsed:  3.5min\n",
      "[Parallel(n_jobs=-1)]: Done   8 tasks      | elapsed:  3.6min\n",
      "[Parallel(n_jobs=-1)]: Done  17 tasks      | elapsed:  6.9min\n",
      "[Parallel(n_jobs=-1)]: Done  26 tasks      | elapsed: 10.6min\n",
      "[Parallel(n_jobs=-1)]: Done  37 tasks      | elapsed: 18.4min\n",
      "[Parallel(n_jobs=-1)]: Done  48 tasks      | elapsed: 26.9min\n",
      "[Parallel(n_jobs=-1)]: Done  61 tasks      | elapsed: 41.9min\n",
      "[Parallel(n_jobs=-1)]: Done  74 tasks      | elapsed: 65.1min\n",
      "[Parallel(n_jobs=-1)]: Done  89 tasks      | elapsed: 97.1min\n",
      "[Parallel(n_jobs=-1)]: Done 104 tasks      | elapsed: 134.7min\n",
      "[Parallel(n_jobs=-1)]: Done 121 tasks      | elapsed: 182.5min\n",
      "[Parallel(n_jobs=-1)]: Done 138 tasks      | elapsed: 234.5min\n",
      "[Parallel(n_jobs=-1)]: Done 159 out of 165 | elapsed: 291.8min remaining: 11.0min\n",
      "[Parallel(n_jobs=-1)]: Done 165 out of 165 | elapsed: 304.3min finished\n"
     ]
    },
    {
     "data": {
      "text/plain": [
       "GridSearchCV(cv=5, error_score='raise-deprecating',\n",
       "             estimator=SVC(C=1.0, cache_size=200, class_weight=None, coef0=0.0,\n",
       "                           decision_function_shape='ovr', degree=3,\n",
       "                           gamma='scale', kernel='poly', max_iter=-1,\n",
       "                           probability=False, random_state=None, shrinking=True,\n",
       "                           tol=0.001, verbose=False),\n",
       "             iid=False, n_jobs=-1,\n",
       "             param_grid={'C': array([1.e-05, 1.e-04, 1.e-03, 1.e-02, 1.e-01, 1.e+00, 1.e+01, 1.e+02,\n",
       "       1.e+03, 1.e+04, 1.e+05]),\n",
       "                         'degree': [1, 2, 3]},\n",
       "             pre_dispatch='2*n_jobs', refit=True, return_train_score=False,\n",
       "             scoring=None, verbose=10)"
      ]
     },
     "execution_count": 17,
     "metadata": {},
     "output_type": "execute_result"
    }
   ],
   "source": [
    "if os.path.isfile('Models/svm_poly_cv.sav'):\n",
    "    grid_search = pickle.load(open('Models/svm_poly_cv.sav', 'rb'))\n",
    "else:\n",
    "    grid_search.fit(train_term_doc, y_train['toxic'])\n",
    "    pickle.dump(grid_search, open('Models/svm_poly_cv.sav', 'wb'))"
   ]
  },
  {
   "cell_type": "code",
   "execution_count": 18,
   "metadata": {},
   "outputs": [],
   "source": [
    "svm_poly_grid_search_predict = grid_search.predict(test_term_doc)"
   ]
  },
  {
   "cell_type": "code",
   "execution_count": 20,
   "metadata": {},
   "outputs": [
    {
     "data": {
      "text/plain": [
       "0.7991704867932765"
      ]
     },
     "execution_count": 20,
     "metadata": {},
     "output_type": "execute_result"
    }
   ],
   "source": [
    "f1_score(y_test['toxic'], svm_poly_grid_search_predict)"
   ]
  },
  {
   "cell_type": "code",
   "execution_count": 22,
   "metadata": {},
   "outputs": [
    {
     "data": {
      "text/plain": [
       "SVC(C=1.0, cache_size=200, class_weight=None, coef0=0.0,\n",
       "    decision_function_shape='ovr', degree=1, gamma='scale', kernel='poly',\n",
       "    max_iter=-1, probability=False, random_state=None, shrinking=True,\n",
       "    tol=0.001, verbose=False)"
      ]
     },
     "execution_count": 22,
     "metadata": {},
     "output_type": "execute_result"
    }
   ],
   "source": [
    "grid_search.best_estimator_"
   ]
  }
 ],
 "metadata": {
  "kernelspec": {
   "display_name": "Python 3",
   "language": "python",
   "name": "python3"
  },
  "language_info": {
   "codemirror_mode": {
    "name": "ipython",
    "version": 3
   },
   "file_extension": ".py",
   "mimetype": "text/x-python",
   "name": "python",
   "nbconvert_exporter": "python",
   "pygments_lexer": "ipython3",
   "version": "3.7.3"
  }
 },
 "nbformat": 4,
 "nbformat_minor": 2
}
