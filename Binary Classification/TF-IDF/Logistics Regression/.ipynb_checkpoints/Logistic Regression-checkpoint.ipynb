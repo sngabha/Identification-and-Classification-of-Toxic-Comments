{
 "cells": [
  {
   "cell_type": "code",
   "execution_count": 2,
   "metadata": {},
   "outputs": [],
   "source": [
    "import pandas as pd\n",
    "import numpy as np\n",
    "from sklearn.linear_model import LogisticRegression\n",
    "from sklearn.feature_extraction.text import CountVectorizer, TfidfVectorizer\n",
    "from sklearn import model_selection, naive_bayes, svm\n",
    "from sklearn.svm import SVC\n",
    "from sklearn.metrics import accuracy_score, f1_score\n",
    "from tqdm import tqdm\n",
    "from sklearn.model_selection import train_test_split\n",
    "from sklearn.preprocessing import MaxAbsScaler\n",
    "from sklearn.model_selection import GridSearchCV\n",
    "from sklearn.metrics import roc_auc_score\n",
    "import os.path\n",
    "import pickle"
   ]
  },
  {
   "cell_type": "markdown",
   "metadata": {},
   "source": [
    "Reading test and train data from already preprocessed pickle file"
   ]
  },
  {
   "cell_type": "code",
   "execution_count": 4,
   "metadata": {},
   "outputs": [],
   "source": [
    "X_train = pd.read_pickle('../../../Preprocessing/Data/X_train.pkl')\n",
    "X_test = pd.read_pickle('../../../Preprocessing/Data/X_test.pkl')\n",
    "y_train = pd.read_pickle('../../../Preprocessing/Data/y_train.pkl')\n",
    "y_test = pd.read_pickle('../../../Preprocessing/Data/y_test.pkl')"
   ]
  },
  {
   "cell_type": "markdown",
   "metadata": {},
   "source": [
    "Performing TF-IDF over the dataset for word embedding"
   ]
  },
  {
   "cell_type": "code",
   "execution_count": 5,
   "metadata": {},
   "outputs": [],
   "source": [
    "vec = TfidfVectorizer(ngram_range=(1, 2), min_df=3,\n",
    "                      max_df=0.9, strip_accents='unicode', use_idf=1, smooth_idf=1, sublinear_tf=1)\n",
    "df = pd.read_pickle('../../../Preprocessing/Data/preprocess_pickle.pkl')\n",
    "df['comment_text_final'] = [\" \".join(text) for text in df['comment_text_final'].values]\n",
    "vec = vec.fit(df['comment_text_final'])"
   ]
  },
  {
   "cell_type": "code",
   "execution_count": 6,
   "metadata": {},
   "outputs": [],
   "source": [
    "train_term_doc = vec.transform(X_train)\n",
    "test_term_doc = vec.transform(X_test)"
   ]
  },
  {
   "cell_type": "markdown",
   "metadata": {},
   "source": [
    "Scaling the input data using MaxAbsScaler"
   ]
  },
  {
   "cell_type": "code",
   "execution_count": 7,
   "metadata": {},
   "outputs": [],
   "source": [
    "scaler = MaxAbsScaler()\n",
    "train_term_doc = scaler.fit_transform(train_term_doc)\n",
    "test_term_doc = scaler.fit_transform(test_term_doc)"
   ]
  },
  {
   "cell_type": "markdown",
   "metadata": {},
   "source": [
    "Performing Cross Validation for multilpe values of C and also using Ridge and Lasso Regularization for Logistics Regression"
   ]
  },
  {
   "cell_type": "code",
   "execution_count": 12,
   "metadata": {},
   "outputs": [],
   "source": [
    "def logistic_regression_with_CV(label):\n",
    "    if os.path.isfile('Models/ridge_lr_' + label + '.sav') and os.path.isfile('Models/lasso_lr_' + label + '.sav'):\n",
    "        ridge_logistic_regressor_grid_cv = pickle.load(open('Models/ridge_lr_' + label + '.sav', 'rb'))\n",
    "        lasso_logistic_regressor_grid_cv = pickle.load(open('Models/lasso_lr_' + label + '.sav', 'rb'))\n",
    "    else:\n",
    "        ridge_logistic_regressor = LogisticRegression(penalty=\"l2\", solver=\"liblinear\", max_iter = 2000)\n",
    "        lasso_logistic_regressor = LogisticRegression(penalty=\"l1\", solver=\"liblinear\", max_iter = 2000)\n",
    "\n",
    "        ridge_logistic_regressor_grid_cv = GridSearchCV(estimator=ridge_logistic_regressor, \n",
    "                                                     param_grid={'C':np.logspace(-4, 4, 20)}, cv= 5, iid=False, n_jobs=-1)\n",
    "        lasso_logistic_regressor_grid_cv = GridSearchCV(estimator=lasso_logistic_regressor, \n",
    "                                                     param_grid={'C':np.logspace(-4, 4, 20)}, cv= 5, iid=False, n_jobs=-1)\n",
    "\n",
    "        ridge_logistic_regressor_grid_cv.fit(train_term_doc, y_train[label])\n",
    "        lasso_logistic_regressor_grid_cv.fit(train_term_doc, y_train[label])\n",
    "\n",
    "        pickle.dump(ridge_logistic_regressor_grid_cv, open('Models/ridge_lr_' + label + '.sav', 'wb'))\n",
    "        pickle.dump(lasso_logistic_regressor_grid_cv, open('Models/lasso_lr_' + label + '.sav', 'wb'))\n",
    "    \n",
    "    ridge_train_pred = ridge_logistic_regressor_grid_cv.predict(train_term_doc)\n",
    "    lasso_train_pred = lasso_logistic_regressor_grid_cv.predict(train_term_doc)\n",
    "\n",
    "    ridge_test_pred = ridge_logistic_regressor_grid_cv.predict(test_term_doc)\n",
    "    lasso_test_pred = lasso_logistic_regressor_grid_cv.predict(test_term_doc)\n",
    "\n",
    "    print(label + \" Ridge Train Accuracy - \" + str(ridge_logistic_regressor_grid_cv.score(train_term_doc, y_train[label])))\n",
    "    print(label + \" Lasso Train Accuracy - \" + str(lasso_logistic_regressor_grid_cv.score(train_term_doc, y_train[label])) + '\\n')\n",
    "\n",
    "    print(label + \" Ridge Train F1 Score - \" + str(f1_score(y_train[label], ridge_train_pred)))\n",
    "    print(label + \" Lasso Train F1 Score - \" + str(f1_score(y_train[label], lasso_train_pred)) + '\\n')\n",
    "    \n",
    "    print(label + \" Ridge Train ROC-AUC Score - \" + str(roc_auc_score(y_train[label], ridge_train_pred)))\n",
    "    print(label + \" Lasso Train ROC-AUC Score - \" + str(roc_auc_score(y_train[label], lasso_train_pred)) + '\\n')\n",
    "\n",
    "    print(label + \" Ridge Test Accuracy - \" + str(ridge_logistic_regressor_grid_cv.score(test_term_doc, y_test[label])))\n",
    "    print(label + \" Lasso Test Accuracy - \" + str(lasso_logistic_regressor_grid_cv.score(test_term_doc, y_test[label])) + '\\n')\n",
    "\n",
    "    print(label + \" Ridge Test F1 Score - \" + str(f1_score(y_test[label], ridge_test_pred)))\n",
    "    print(label + \" Lasso Test F1 Score - \" + str(f1_score(y_test[label], lasso_test_pred)) + '\\n')\n",
    "    \n",
    "    print(label + \" Ridge Test ROC-AUC Score - \" + str(roc_auc_score(y_test[label], ridge_test_pred)))\n",
    "    print(label + \" Lasso Test ROC-AUC Score - \" + str(roc_auc_score(y_test[label], lasso_test_pred)) + '\\n\\n')"
   ]
  },
  {
   "cell_type": "markdown",
   "metadata": {},
   "source": [
    "Accuracy, F1 and ROC-AUC score for each label using Binary Relevance Technique"
   ]
  },
  {
   "cell_type": "code",
   "execution_count": 14,
   "metadata": {},
   "outputs": [
    {
     "name": "stdout",
     "output_type": "stream",
     "text": [
      "toxic Ridge Train Accuracy - 0.9980958107837242\n",
      "toxic Lasso Train Accuracy - 0.9608889557025456\n",
      "\n",
      "toxic Ridge Train F1 Score - 0.9963052989790958\n",
      "toxic Lasso Train F1 Score - 0.9214828227956341\n",
      "\n",
      "toxic Ridge Train ROC-AUC Score - 0.9970702556227102\n",
      "toxic Lasso Train ROC-AUC Score - 0.9375781202131243\n",
      "\n",
      "toxic Ridge Test Accuracy - 0.8998423114095325\n",
      "toxic Lasso Test Accuracy - 0.9124573986469302\n",
      "\n",
      "toxic Ridge Test F1 Score - 0.7907322776065469\n",
      "toxic Lasso Test F1 Score - 0.8218610909843701\n",
      "\n",
      "toxic Ridge Test ROC-AUC Score - 0.8487089790281281\n",
      "toxic Lasso Test ROC-AUC Score - 0.8736658098360226\n",
      "\n",
      "\n",
      "severe_toxic Ridge Train Accuracy - 0.9798306273802365\n",
      "severe_toxic Lasso Train Accuracy - 0.9747945480056124\n",
      "\n",
      "severe_toxic Ridge Train F1 Score - 0.4459738472126635\n",
      "severe_toxic Lasso Train F1 Score - 0.3119015047879617\n",
      "\n",
      "severe_toxic Ridge Train ROC-AUC Score - 0.6514190451932962\n",
      "severe_toxic Lasso Train ROC-AUC Score - 0.604954842315839\n",
      "\n",
      "severe_toxic Ridge Test Accuracy - 0.9750241619614426\n",
      "severe_toxic Lasso Test Accuracy - 0.97319293962053\n",
      "\n",
      "severe_toxic Ridge Test F1 Score - 0.2832116788321168\n",
      "severe_toxic Lasso Test F1 Score - 0.3111111111111111\n",
      "\n",
      "severe_toxic Ridge Test ROC-AUC Score - 0.5898471374528302\n",
      "severe_toxic Lasso Test ROC-AUC Score - 0.609046666288601\n",
      "\n",
      "\n",
      "obscene Ridge Train Accuracy - 0.9977951493285228\n",
      "obscene Lasso Train Accuracy - 0.9683553818400481\n",
      "\n",
      "obscene Ridge Train F1 Score - 0.9922054915854739\n",
      "obscene Lasso Train F1 Score - 0.8816640119928792\n",
      "\n",
      "obscene Ridge Train ROC-AUC Score - 0.9948022231187991\n",
      "obscene Lasso Train ROC-AUC Score - 0.9114942423937477\n",
      "\n",
      "obscene Ridge Test Accuracy - 0.935958085355308\n",
      "obscene Lasso Test Accuracy - 0.9445546569001475\n",
      "\n",
      "obscene Ridge Test F1 Score - 0.7470363672895318\n",
      "obscene Lasso Test F1 Score - 0.7930117736422331\n",
      "\n",
      "obscene Ridge Test ROC-AUC Score - 0.822981526631658\n",
      "obscene Lasso Test ROC-AUC Score - 0.8621685999837063\n",
      "\n",
      "\n",
      "threat Ridge Train Accuracy - 0.9998747243936661\n",
      "threat Lasso Train Accuracy - 0.9997995590298657\n",
      "\n",
      "threat Ridge Train F1 Score - 0.9925925925925926\n",
      "threat Lasso Train F1 Score - 0.9882005899705014\n",
      "\n",
      "threat Ridge Train ROC-AUC Score - 0.9926470588235294\n",
      "threat Lasso Train ROC-AUC Score - 0.9926091532337185\n",
      "\n",
      "threat Ridge Test Accuracy - 0.9930311816470827\n",
      "threat Lasso Test Accuracy - 0.9914034284551605\n",
      "\n",
      "threat Ridge Test F1 Score - 0.3800904977375566\n",
      "threat Lasso Test F1 Score - 0.3157894736842105\n",
      "\n",
      "threat Ridge Test ROC-AUC Score - 0.6511237619241709\n",
      "threat Lasso Test ROC-AUC Score - 0.6395114068906841\n",
      "\n",
      "\n",
      "insult Ridge Train Accuracy - 0.9843154940869914\n",
      "insult Lasso Train Accuracy - 0.9283423531769894\n",
      "\n",
      "insult Ridge Train F1 Score - 0.9388910581803983\n",
      "insult Lasso Train F1 Score - 0.6805896805896805\n",
      "\n",
      "insult Ridge Train ROC-AUC Score - 0.9549673465724602\n",
      "insult Lasso Train ROC-AUC Score - 0.7805078981576883\n",
      "\n",
      "insult Ridge Test Accuracy - 0.9191718805636095\n",
      "insult Lasso Test Accuracy - 0.9243094765756142\n",
      "\n",
      "insult Ridge Test F1 Score - 0.646496106785317\n",
      "insult Lasso Test F1 Score - 0.686472819216182\n",
      "\n",
      "insult Ridge Test ROC-AUC Score - 0.7647524522277466\n",
      "insult Lasso Test ROC-AUC Score - 0.7961135267715213\n",
      "\n",
      "\n",
      "identity_hate Ridge Train Accuracy - 0.9970685508117859\n",
      "identity_hate Lasso Train Accuracy - 0.9799809581078373\n",
      "\n",
      "identity_hate Ridge Train F1 Score - 0.9365853658536586\n",
      "identity_hate Lasso Train F1 Score - 0.3923954372623574\n",
      "\n",
      "identity_hate Ridge Train ROC-AUC Score - 0.9511026105598092\n",
      "identity_hate Lasso Train ROC-AUC Score - 0.6335127059636773\n",
      "\n",
      "identity_hate Ridge Test Accuracy - 0.9788392085050104\n",
      "identity_hate Lasso Test Accuracy - 0.9798565542499619\n",
      "\n",
      "identity_hate Ridge Test F1 Score - 0.33118971061093244\n",
      "identity_hate Lasso Test F1 Score - 0.38317757009345804\n",
      "\n",
      "identity_hate Ridge Test ROC-AUC Score - 0.6131074575020263\n",
      "identity_hate Lasso Test ROC-AUC Score - 0.6354288860734549\n",
      "\n",
      "\n"
     ]
    }
   ],
   "source": [
    "label_cols = ['toxic', 'severe_toxic', 'obscene', 'threat', 'insult', 'identity_hate']\n",
    "for label in label_cols:\n",
    "    logistic_regression_with_CV(label)"
   ]
  },
  {
   "cell_type": "code",
   "execution_count": null,
   "metadata": {},
   "outputs": [],
   "source": []
  }
 ],
 "metadata": {
  "kernelspec": {
   "display_name": "Python 3",
   "language": "python",
   "name": "python3"
  },
  "language_info": {
   "codemirror_mode": {
    "name": "ipython",
    "version": 3
   },
   "file_extension": ".py",
   "mimetype": "text/x-python",
   "name": "python",
   "nbconvert_exporter": "python",
   "pygments_lexer": "ipython3",
   "version": "3.7.3"
  }
 },
 "nbformat": 4,
 "nbformat_minor": 2
}
