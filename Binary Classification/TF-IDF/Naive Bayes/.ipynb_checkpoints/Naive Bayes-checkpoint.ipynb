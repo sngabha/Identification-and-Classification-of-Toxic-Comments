{
 "cells": [
  {
   "cell_type": "code",
   "execution_count": 1,
   "metadata": {},
   "outputs": [],
   "source": [
    "import pandas as pd\n",
    "import numpy as np\n",
    "from sklearn.feature_extraction.text import CountVectorizer, TfidfVectorizer\n",
    "from sklearn import model_selection, naive_bayes, svm\n",
    "from sklearn.svm import SVC\n",
    "from sklearn.model_selection import GridSearchCV\n",
    "from sklearn.metrics import accuracy_score, f1_score\n",
    "from tqdm import tqdm\n",
    "from sklearn.model_selection import train_test_split\n",
    "from sklearn.preprocessing import MaxAbsScaler\n",
    "from sklearn.metrics import roc_auc_score\n",
    "import os.path\n",
    "import pickle\n",
    "from skmultilearn.problem_transform import ClassifierChain"
   ]
  },
  {
   "cell_type": "markdown",
   "metadata": {},
   "source": [
    "Reading test and train data from already preprocessed pickle file"
   ]
  },
  {
   "cell_type": "code",
   "execution_count": 2,
   "metadata": {},
   "outputs": [],
   "source": [
    "X_train = pd.read_pickle('../../../Preprocessing/Data/X_train.pkl')\n",
    "X_test = pd.read_pickle('../../../Preprocessing/Data/X_test.pkl')\n",
    "y_train = pd.read_pickle('../../../Preprocessing/Data/y_train.pkl')\n",
    "y_test = pd.read_pickle('../../../Preprocessing/Data/y_test.pkl')"
   ]
  },
  {
   "cell_type": "markdown",
   "metadata": {},
   "source": [
    "Performing TF-IDF over the dataset for word embedding"
   ]
  },
  {
   "cell_type": "code",
   "execution_count": 3,
   "metadata": {},
   "outputs": [],
   "source": [
    "vec = TfidfVectorizer(ngram_range=(1, 2), min_df=3,\n",
    "                      max_df=0.9, strip_accents='unicode', use_idf=1, smooth_idf=1, sublinear_tf=1)\n",
    "df = pd.read_pickle('../../../Preprocessing/Data/preprocess_pickle.pkl')\n",
    "df['comment_text_final'] = [\" \".join(text) for text in df['comment_text_final'].values]\n",
    "vec = vec.fit(df['comment_text_final'])"
   ]
  },
  {
   "cell_type": "code",
   "execution_count": 4,
   "metadata": {},
   "outputs": [],
   "source": [
    "train_term_doc = vec.transform(X_train)\n",
    "test_term_doc = vec.transform(X_test)"
   ]
  },
  {
   "cell_type": "markdown",
   "metadata": {},
   "source": [
    "Scaling the input data using MaxAbsScaler"
   ]
  },
  {
   "cell_type": "code",
   "execution_count": 5,
   "metadata": {},
   "outputs": [],
   "source": [
    "scaler = MaxAbsScaler()\n",
    "train_term_doc = scaler.fit_transform(train_term_doc)\n",
    "test_term_doc = scaler.fit_transform(test_term_doc)"
   ]
  },
  {
   "cell_type": "markdown",
   "metadata": {},
   "source": [
    "## Multilabel Classification using Binary Relevance\n",
    "\n",
    "Following function performs Multinomial Naive Bayes for each label. In short, it uses Binary Relevance (BR) method for multi-label classification."
   ]
  },
  {
   "cell_type": "code",
   "execution_count": 6,
   "metadata": {},
   "outputs": [],
   "source": [
    "def perform_NB_for_label(label):\n",
    "    naive_classifier = naive_bayes.MultinomialNB()\n",
    "    naive_classifier.fit(train_term_doc, y_train[label])\n",
    "    predictions_NB = naive_classifier.predict(test_term_doc)\n",
    "    print(label + \" Accuracy Score - \" + str(accuracy_score(y_test[label], predictions_NB)))\n",
    "    print(label + \" F1 Score - \" + str(f1_score(y_test[label], predictions_NB)))\n",
    "    print(label + \" ROC-AUC Score - \" + str(roc_auc_score(y_test[label], predictions_NB)) + '\\n')\n",
    "    return predictions_NB"
   ]
  },
  {
   "cell_type": "markdown",
   "metadata": {},
   "source": [
    "Accuracy, F1 Score and ROC-AUC Score for each label"
   ]
  },
  {
   "cell_type": "code",
   "execution_count": 7,
   "metadata": {},
   "outputs": [
    {
     "name": "stdout",
     "output_type": "stream",
     "text": [
      "toxic Accuracy Score - 0.8849890635332418\n",
      "toxic F1 Score - 0.7758056519583539\n",
      "toxic ROC-AUC Score - 0.8514251977017934\n",
      "\n",
      "severe_toxic Accuracy Score - 0.9701409023856757\n",
      "severe_toxic F1 Score - 0.21837549933422104\n",
      "severe_toxic ROC-AUC Score - 0.5736055287365285\n",
      "\n",
      "obscene Accuracy Score - 0.915204232158299\n",
      "obscene F1 Score - 0.6842204963061186\n",
      "obscene ROC-AUC Score - 0.8029749306670559\n",
      "\n",
      "threat Accuracy Score - 0.9897756752632382\n",
      "threat F1 Score - 0.10666666666666666\n",
      "threat ROC-AUC Score - 0.5415572527244907\n",
      "\n",
      "insult Accuracy Score - 0.9009105244417315\n",
      "insult F1 Score - 0.6066235864297254\n",
      "insult ROC-AUC Score - 0.7621225253583902\n",
      "\n",
      "identity_hate Accuracy Score - 0.9741594180782339\n",
      "identity_hate F1 Score - 0.15333333333333332\n",
      "identity_hate ROC-AUC Score - 0.5485804496307919\n",
      "\n"
     ]
    }
   ],
   "source": [
    "label_cols = ['toxic', 'severe_toxic', 'obscene', 'threat', 'insult', 'identity_hate']\n",
    "for label in label_cols:\n",
    "    perform_NB_for_label(label)"
   ]
  },
  {
   "cell_type": "markdown",
   "metadata": {},
   "source": [
    "## Multilabel Classification using Classifier Chain\n",
    "\n",
    "Following function performs Multinomial Naive Bayes for each label and it uses Classifier Chain method for multi-label classification."
   ]
  },
  {
   "cell_type": "code",
   "execution_count": 57,
   "metadata": {},
   "outputs": [
    {
     "data": {
      "text/plain": [
       "ClassifierChain(classifier=MultinomialNB(alpha=1.0, class_prior=None,\n",
       "                                         fit_prior=True),\n",
       "                order=None, require_dense=[True, True])"
      ]
     },
     "execution_count": 57,
     "metadata": {},
     "output_type": "execute_result"
    }
   ],
   "source": [
    "classifier = ClassifierChain(classifier = naive_bayes.MultinomialNB())\n",
    "classifier.fit(train_term_doc, y_train)"
   ]
  },
  {
   "cell_type": "code",
   "execution_count": 58,
   "metadata": {},
   "outputs": [],
   "source": [
    "predictions = classifier.predict(test_term_doc)"
   ]
  },
  {
   "cell_type": "code",
   "execution_count": 59,
   "metadata": {},
   "outputs": [
    {
     "name": "stdout",
     "output_type": "stream",
     "text": [
      " Accuracy Score - 0.756040490360649\n"
     ]
    }
   ],
   "source": [
    "print(\" Accuracy Score - \" + str(accuracy_score(y_test, predictions)))"
   ]
  }
 ],
 "metadata": {
  "kernelspec": {
   "display_name": "Python 3",
   "language": "python",
   "name": "python3"
  },
  "language_info": {
   "codemirror_mode": {
    "name": "ipython",
    "version": 3
   },
   "file_extension": ".py",
   "mimetype": "text/x-python",
   "name": "python",
   "nbconvert_exporter": "python",
   "pygments_lexer": "ipython3",
   "version": "3.7.3"
  }
 },
 "nbformat": 4,
 "nbformat_minor": 2
}
